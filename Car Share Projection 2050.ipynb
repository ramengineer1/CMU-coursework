{
 "cells": [
  {
   "cell_type": "code",
   "execution_count": 3,
   "metadata": {},
   "outputs": [],
   "source": [
    "from scipy.integrate import odeint"
   ]
  },
  {
   "cell_type": "code",
   "execution_count": 5,
   "metadata": {},
   "outputs": [],
   "source": [
    "import numpy as np\n",
    "import matplotlib.pyplot as plt\n",
    "from pycse import nlinfit\n",
    "import pandas as pd"
   ]
  },
  {
   "cell_type": "markdown",
   "metadata": {},
   "source": [
    "-EIA Annual Energy Outlook 2020\n",
    "\n",
    "-Table 45. Transportation Fleet Car and Truck Stock by Type and Technology\n",
    "\n",
    "-2019 and projections: U.S. Energy Information Administration (EIA), AEO2020 National Energy Modeling System."
   ]
  },
  {
   "cell_type": "code",
   "execution_count": 6,
   "metadata": {},
   "outputs": [],
   "source": [
    "#car in stock includes cars that are not in use(i.e sitting in garage)\n",
    "#car in use includes cars that are used regularly\n",
    "year = np.array([2019,2020,2021,2022,2023,2024,2025,2026,2027,2028,2029,\n",
    "2030,2031,2032,2033,2034,2035,2036,2037,2038,2039,2040,2041,2042,2043,\n",
    "2044,2045,2046,2047,2048,2049,2050])\n",
    "\n",
    "conventional_cars = np.array([123.672562,123.441124,122.987709,122.459618,\n",
    "121.999062,121.570724,121.231659,120.903519,120.602974,120.252853,\n",
    "119.861824,119.45887,119.011002,118.55275,118.126495,117.7565,117.470573,\n",
    "117.296814,117.21965,117.271103,117.434135,117.676071,117.995857,118.394112,\n",
    "118.824203,119.287155,119.786743,120.29351,120.810143,121.331642,121.834694,\n",
    "122.323364])# million\n",
    "\n",
    "ev_cars = np.array([0.804601,1.107904,1.514288,1.922637,2.345654,2.806079,\n",
    "3.311775,3.826321,4.350964,4.891109,5.452297,6.044231,6.674578,7.338997,\n",
    "8.0362,8.766011,9.525219,10.308653,11.110107,11.925632,12.755437,13.591568,\n",
    "14.422963,15.25312,16.085264,16.91797,17.754712,18.589699,19.423309,20.262503,\n",
    "21.09875,21.930136])#million\n",
    "\n",
    "total_cars = conventional_cars + ev_cars\n",
    "zero_cars = np.zeros(total_cars.shape)\n",
    "\n"
   ]
  },
  {
   "cell_type": "code",
   "execution_count": 4,
   "metadata": {},
   "outputs": [
    {
     "data": {
      "text/plain": [
       "<pandas._config.config.option_context at 0x1991d13c4e0>"
      ]
     },
     "execution_count": 4,
     "metadata": {},
     "output_type": "execute_result"
    }
   ],
   "source": [
    "pd.option_context('display.max_rows', 100, 'display.max_columns', 100)"
   ]
  },
  {
   "cell_type": "code",
   "execution_count": 9,
   "metadata": {},
   "outputs": [
    {
     "data": {
      "text/plain": [
       "<matplotlib.legend.Legend at 0x1b5eb94eac8>"
      ]
     },
     "execution_count": 9,
     "metadata": {},
     "output_type": "execute_result"
    },
    {
     "data": {
      "image/png": "[encoded data removed]",
      "text/plain": [
       "<Figure size 432x288 with 1 Axes>"
      ]
     },
     "metadata": {
      "needs_background": "light"
     },
     "output_type": "display_data"
    }
   ],
   "source": [
    "%matplotlib inline\n",
    "labels = [\"Electric\",\"Gasoline\"]\n",
    "plt.stackplot(year[:12],ev_cars[:12],conventional_cars[:12])\n",
    "plt.xlabel(\"Year\")\n",
    "plt.ylabel(\"Cars (Million)\")\n",
    "plt.xlim(2019,2030)\n",
    "plt.title(\"U.S Cars in Stock by Technology\" )\n",
    "plt.legend(labels = labels,bbox_to_anchor = [1.35,1])"
   ]
  },
  {
   "cell_type": "code",
   "execution_count": 10,
   "metadata": {},
   "outputs": [
    {
     "name": "stdout",
     "output_type": "stream",
     "text": [
      "total cars @ 2030 125.503101 millions\n",
      "EV @ 2030 6.044231 millions\n",
      "Conventional @ 2030 119.45887 millions\n",
      "4.816001319361822\n"
     ]
    }
   ],
   "source": [
    "print(\"total cars @ 2030\",total_cars[11],\"millions\")\n",
    "print(\"EV @ 2030\",ev_cars[11],\"millions\")\n",
    "print(\"Conventional @ 2030\",conventional_cars[11],\"millions\")\n",
    "print((ev_cars[11]/total_cars[11])*100)"
   ]
  },
  {
   "cell_type": "code",
   "execution_count": 11,
   "metadata": {},
   "outputs": [
    {
     "data": {
      "image/png": "[encoded data removed]",
      "text/plain": [
       "<Figure size 432x288 with 1 Axes>"
      ]
     },
     "metadata": {
      "needs_background": "light"
     },
     "output_type": "display_data"
    }
   ],
   "source": [
    "plt.stackplot(year,ev_cars,conventional_cars, colors = ['#33b864','#4984b8'])\n",
    "plt.xlabel(\"Year\")\n",
    "plt.ylabel(\"Cars (Million)\")\n",
    "plt.xlim(2019,2050)\n",
    "plt.title(\"U.S Cars in Stock by Technology Using Projected Sales\" )\n",
    "plt.legend(labels = labels,bbox_to_anchor = [1.28,1])\n",
    "plt.grid(axis = \"y\")\n",
    "plt.box()\n",
    "plt.show()"
   ]
  },
  {
   "cell_type": "code",
   "execution_count": 12,
   "metadata": {},
   "outputs": [
    {
     "name": "stdout",
     "output_type": "stream",
     "text": [
      "total cars @ 2050 144.2535 millions\n",
      "EV @ 2050 21.930136 millions\n",
      "Conventional @ 2050 122.323364 millions\n",
      "15.202498379588711\n"
     ]
    }
   ],
   "source": [
    "print(\"total cars @ 2050\",total_cars[-1],\"millions\")\n",
    "print(\"EV @ 2050\",ev_cars[-1],\"millions\")\n",
    "print(\"Conventional @ 2050\",conventional_cars[-1],\"millions\")\n",
    "print((ev_cars[-1]/total_cars[-1])*100)"
   ]
  },
  {
   "cell_type": "markdown",
   "metadata": {},
   "source": [
    "Proposed plan to reach 50 @ 30"
   ]
  },
  {
   "cell_type": "code",
   "execution_count": 13,
   "metadata": {},
   "outputs": [],
   "source": [
    "#assume all car sales are electric from 2019\n",
    "#upper bounds on cars that can be retired are 10+ years or older\n",
    "\n",
    "#from 2020 - 2029\n",
    "car_sales = np.array([7338.012695,7227.481445,7068.838867,6962.69043,7002.719238,\n",
    "7029.242188,7117.472168,7151.890625,7277.216797,7391.891113,7514.611328,])/1000 # millions\n",
    "car_sales = car_sales *0.825 #retirement\n",
    "n = len(ev_cars[0:12])\n",
    "m = len(car_sales)\n",
    "ev_cars2 = np.zeros(n)\n",
    "ev_cars2[0] = ev_cars[0]\n",
    "\n",
    "year2 = year[:12]\n",
    "for i in range(m):\n",
    "    ev_cars2[i+1] = ev_cars2[i] + car_sales[i]\n",
    "\n"
   ]
  },
  {
   "cell_type": "code",
   "execution_count": 14,
   "metadata": {},
   "outputs": [
    {
     "name": "stderr",
     "output_type": "stream",
     "text": [
      "C:\\Users\\jangs\\Anaconda3\\lib\\site-packages\\scipy\\optimize\\minpack.py:787: OptimizeWarning: Covariance of the parameters could not be estimated\n",
      "  category=OptimizeWarning)\n"
     ]
    }
   ],
   "source": [
    "t = np.array([2019,2030])\n",
    "y = np.array([conventional_cars[0],ev_cars2[-1]])\n",
    "\n",
    "def retire_car(t,a,b):\n",
    "    return a*np.exp(-b*(t-2019))\n",
    "\n",
    "pars, ci ,se = nlinfit(retire_car,t,y,[conventional_cars[0],0.05])"
   ]
  },
  {
   "cell_type": "code",
   "execution_count": 15,
   "metadata": {},
   "outputs": [
    {
     "data": {
      "image/png": "[encoded data removed]",
      "text/plain": [
       "<Figure size 432x288 with 1 Axes>"
      ]
     },
     "metadata": {
      "needs_background": "light"
     },
     "output_type": "display_data"
    }
   ],
   "source": [
    "conventional_cars2 = retire_car(year2,*pars)\n",
    "%matplotlib inline\n",
    "plt.stackplot(year2,ev_cars2,conventional_cars2,colors = ['#33b864','#4984b8'])\n",
    "plt.xlabel(\"Year\")\n",
    "plt.ylabel(\"Cars (Million)\")\n",
    "plt.xlim(2019,2030)\n",
    "plt.title(\"U.S Cars in Stock by Technology Proposal\" )\n",
    "plt.legend(labels = labels,bbox_to_anchor = [1.28,1])\n",
    "plt.grid(axis = \"y\")\n",
    "plt.box()\n",
    "plt.show()"
   ]
  },
  {
   "cell_type": "code",
   "execution_count": 16,
   "metadata": {},
   "outputs": [
    {
     "data": {
      "text/plain": [
       "array([6.85502039, 6.47505491, 6.11615046, 5.77713964, 5.45691978,\n",
       "       5.15444933, 4.86874444, 4.59887583, 4.34396571, 4.10318495,\n",
       "       3.87575038])"
      ]
     },
     "execution_count": 16,
     "metadata": {},
     "output_type": "execute_result"
    }
   ],
   "source": [
    "n = len(conventional_cars2)\n",
    "cars_retired = np.zeros(n)\n",
    "\n",
    "for i in range(n):\n",
    "    cars_retired[0] = 0\n",
    "    cars_retired[i] = conventional_cars2[i-1] - conventional_cars2[i]\n",
    "    \n",
    "cars_retired = cars_retired[1:]\n",
    "cars_retired"
   ]
  },
  {
   "cell_type": "code",
   "execution_count": 17,
   "metadata": {},
   "outputs": [
    {
     "data": {
      "text/plain": [
       "array([124.477163, 124.549028, 124.501997, 124.382255, 124.344716,\n",
       "       124.376803, 124.543434, 124.72984 , 124.953938, 125.143962,\n",
       "       125.314121, 125.503101])"
      ]
     },
     "execution_count": 17,
     "metadata": {},
     "output_type": "execute_result"
    }
   ],
   "source": [
    "total_cars[:12]"
   ]
  },
  {
   "cell_type": "code",
   "execution_count": 18,
   "metadata": {},
   "outputs": [
    {
     "data": {
      "text/plain": [
       "array([124.477163  , 123.67600308, 123.16362036, 122.87926197,\n",
       "       122.84634194, 123.16666553, 123.811341  , 124.8145111 ,\n",
       "       126.11594504, 127.77568319, 129.7708084 , 132.09461238])"
      ]
     },
     "execution_count": 18,
     "metadata": {},
     "output_type": "execute_result"
    }
   ],
   "source": [
    "total_cars2 = ev_cars2 + conventional_cars2\n",
    "total_cars2"
   ]
  },
  {
   "cell_type": "code",
   "execution_count": 19,
   "metadata": {},
   "outputs": [
    {
     "data": {
      "text/plain": [
       "259.31365115602506"
      ]
     },
     "execution_count": 19,
     "metadata": {},
     "output_type": "execute_result"
    }
   ],
   "source": [
    "sum_cars_retired = sum(cars_retired)\n",
    "ans = sum_cars_retired * 4500 #million$\n",
    "ans/1000"
   ]
  },
  {
   "cell_type": "code",
   "execution_count": 18,
   "metadata": {},
   "outputs": [
    {
     "data": {
      "text/plain": [
       "57.62525581245001"
      ]
     },
     "execution_count": 18,
     "metadata": {},
     "output_type": "execute_result"
    }
   ],
   "source": [
    "sum_cars_retired"
   ]
  },
  {
   "cell_type": "code",
   "execution_count": 19,
   "metadata": {},
   "outputs": [
    {
     "data": {
      "text/plain": [
       "array([6.05386047, 5.96267219, 5.83179207, 5.7442196 , 5.77724337,\n",
       "       5.79912481, 5.87191454, 5.90030977, 6.00370386, 6.09831017,\n",
       "       6.19955435])"
      ]
     },
     "execution_count": 19,
     "metadata": {},
     "output_type": "execute_result"
    }
   ],
   "source": [
    "car_sales"
   ]
  },
  {
   "cell_type": "code",
   "execution_count": 20,
   "metadata": {},
   "outputs": [
    {
     "data": {
      "text/plain": [
       "[<matplotlib.lines.Line2D at 0x1991e9d65f8>]"
      ]
     },
     "execution_count": 20,
     "metadata": {},
     "output_type": "execute_result"
    },
    {
     "data": {
      "image/png": "[encoded data removed]",
      "text/plain": [
       "<Figure size 432x288 with 1 Axes>"
      ]
     },
     "metadata": {
      "needs_background": "light"
     },
     "output_type": "display_data"
    }
   ],
   "source": [
    "plt.plot(year2,ev_cars2)"
   ]
  },
  {
   "cell_type": "code",
   "execution_count": 21,
   "metadata": {},
   "outputs": [],
   "source": [
    "np.vander?"
   ]
  },
  {
   "cell_type": "code",
   "execution_count": 22,
   "metadata": {},
   "outputs": [
    {
     "data": {
      "text/plain": [
       "12"
      ]
     },
     "execution_count": 22,
     "metadata": {},
     "output_type": "execute_result"
    }
   ],
   "source": [
    "len(year2)"
   ]
  },
  {
   "cell_type": "code",
   "execution_count": 23,
   "metadata": {},
   "outputs": [
    {
     "data": {
      "text/plain": [
       "<ErrorbarContainer object of 3 artists>"
      ]
     },
     "execution_count": 23,
     "metadata": {},
     "output_type": "execute_result"
    },
    {
     "data": {
      "image/png": "[encoded data removed]",
      "text/plain": [
       "<Figure size 432x288 with 1 Axes>"
      ]
     },
     "metadata": {
      "needs_background": "light"
     },
     "output_type": "display_data"
    }
   ],
   "source": [
    "\n",
    "production_cost = np.zeros(12)\n",
    "\n",
    "for i in range(11):\n",
    "    production_cost[0] =12750+24100\n",
    "    production_cost[i+1] = production_cost[i]*1.02\n",
    "production_cost\n",
    "annual_production_cost = production_cost *ev_cars2\n",
    "# plt.plot(year2,annual_production_cost)\n",
    "plt.errorbar(year2,annual_production_cost,yerr = 200000,uplims=True, lolims=True,\n",
    "             label='uplims=True, lolims=True')"
   ]
  },
  {
   "cell_type": "code",
   "execution_count": 4,
   "metadata": {},
   "outputs": [
    {
     "data": {
      "text/plain": [
       "259.2"
      ]
     },
     "execution_count": 4,
     "metadata": {},
     "output_type": "execute_result"
    }
   ],
   "source": [
    "57.6*1e6 * 4500/1000000000\n",
    "\n"
   ]
  },
  {
   "cell_type": "code",
   "execution_count": 1,
   "metadata": {},
   "outputs": [
    {
     "data": {
      "text/plain": [
       "1000000.0"
      ]
     },
     "execution_count": 1,
     "metadata": {},
     "output_type": "execute_result"
    }
   ],
   "source": [
    "1e6"
   ]
  },
  {
   "cell_type": "code",
   "execution_count": null,
   "metadata": {},
   "outputs": [],
   "source": []
  }
 ],
 "metadata": {
  "kernelspec": {
   "display_name": "Python 3",
   "language": "python",
   "name": "python3"
  },
  "language_info": {
   "codemirror_mode": {
    "name": "ipython",
    "version": 3
   },
   "file_extension": ".py",
   "mimetype": "text/x-python",
   "name": "python",
   "nbconvert_exporter": "python",
   "pygments_lexer": "ipython3",
   "version": "3.7.3"
  }
 },
 "nbformat": 4,
 "nbformat_minor": 2
}
